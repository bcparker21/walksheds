{
 "cells": [
  {
   "cell_type": "code",
   "execution_count": 1,
   "metadata": {},
   "outputs": [],
   "source": [
    "import partridge as ptg\n",
    "import datetime\n",
    "import geopandas as gpd\n",
    "from shapely.geometry import Point\n",
    "import osmnx as ox\n",
    "import networkx as nx\n",
    "import pandas as pd\n",
    "import os\n",
    "from shapely.geometry import mapping, shape\n",
    "from shapely.ops import cascaded_union\n",
    "from fiona import collection\n",
    "from IPython.display import clear_output\n",
    "import threading\n",
    "import multiprocessing\n",
    "%matplotlib inline"
   ]
  },
  {
   "cell_type": "code",
   "execution_count": 2,
   "metadata": {},
   "outputs": [],
   "source": [
    "path=r\"/Users/brianparker/Work/VRT_Transit1.zip\""
   ]
  },
  {
   "cell_type": "code",
   "execution_count": 3,
   "metadata": {},
   "outputs": [],
   "source": [
    "service_ids_by_date=ptg.read_service_ids_by_date(path)"
   ]
  },
  {
   "cell_type": "code",
   "execution_count": 4,
   "metadata": {},
   "outputs": [],
   "source": [
    "date=datetime.date(2018, 6, 4)"
   ]
  },
  {
   "cell_type": "code",
   "execution_count": 5,
   "metadata": {},
   "outputs": [],
   "source": [
    "service_ids=service_ids_by_date[date]"
   ]
  },
  {
   "cell_type": "code",
   "execution_count": 6,
   "metadata": {},
   "outputs": [],
   "source": [
    "feed=ptg.feed(path,view={\n",
    "    'trips.txt':{\n",
    "        'service_id':service_ids,\n",
    "    },\n",
    "})"
   ]
  },
  {
   "cell_type": "code",
   "execution_count": 7,
   "metadata": {},
   "outputs": [],
   "source": [
    "df=feed.stops"
   ]
  },
  {
   "cell_type": "code",
   "execution_count": 8,
   "metadata": {},
   "outputs": [],
   "source": [
    "df['Coordinates']=list(zip(df.stop_lat,df.stop_lon))"
   ]
  },
  {
   "cell_type": "code",
   "execution_count": 9,
   "metadata": {},
   "outputs": [],
   "source": [
    "outfolder=r\"/Users/brianparker/Work/Walksheds/\""
   ]
  },
  {
   "cell_type": "code",
   "execution_count": 10,
   "metadata": {},
   "outputs": [],
   "source": [
    "allwalksheds=[]\n",
    "allwalksheds=gpd.GeoDataFrame(allwalksheds)\n",
    "d={}"
   ]
  },
  {
   "cell_type": "code",
   "execution_count": 11,
   "metadata": {},
   "outputs": [],
   "source": [
    "def reader():\n",
    "    for i in os.listdir(outfolder):\n",
    "        d['{}'.format(i)]=gpd.read_file(outfolder+\"\\\\\"+i+\"\\\\edges\\\\edges.shp\")\n",
    "        print('reading: '+i)\n",
    "    for key,value in d.items():\n",
    "        allwalksheds.append(value[:])\n",
    "        print('appending: '+ key)\n",
    "        return allwalksheds\n",
    "    allwalksheds.plot()\n",
    "    allwalksheds.to_file(r\"N:\\Planning - New File Structure\\GIS\\Data\\Stops\\allwalkshedsQtr.shp\")"
   ]
  },
  {
   "cell_type": "code",
   "execution_count": 12,
   "metadata": {
    "scrolled": true
   },
   "outputs": [],
   "source": [
    "# reader()"
   ]
  },
  {
   "cell_type": "code",
   "execution_count": 13,
   "metadata": {},
   "outputs": [],
   "source": [
    "# for key,value in d.items():\n",
    "#     allwalksheds=allwalksheds.append(value[:])\n",
    "#     print('appending: '+ key)"
   ]
  },
  {
   "cell_type": "code",
   "execution_count": 14,
   "metadata": {},
   "outputs": [],
   "source": [
    "# allwalksheds.plot()"
   ]
  },
  {
   "cell_type": "code",
   "execution_count": 15,
   "metadata": {},
   "outputs": [],
   "source": [
    "# test=ox.graph_to_gdfs(ox.graph_from_point([43.608106, -116.248038]),node_geometry=False,nodes=False)"
   ]
  },
  {
   "cell_type": "code",
   "execution_count": 16,
   "metadata": {},
   "outputs": [],
   "source": [
    "def reader2(df):\n",
    "    for index, row in df.iterrows():\n",
    "        try:\n",
    "#             clear_output(wait=True)\n",
    "            stopname=row['stop_name']+\"_\"+row['stop_id']\n",
    "            d['{}'.format(stopname)]=ox.graph_to_gdfs((ox.graph_from_point(row['Coordinates'],distance=200,network_type='walk',clean_periphery=False)),node_geometry=False,nodes=False)\n",
    "            print('reading  {} ({} of {})'.format(row['stop_name'],(index)+1,len(df)))\n",
    "        except Exception:\n",
    "            print(stopname+\" ERROR ERROR ERROR ERROR ERROR\")\n",
    "            continue\n",
    "        "
   ]
  },
  {
   "cell_type": "code",
   "execution_count": 17,
   "metadata": {},
   "outputs": [],
   "source": [
    "# downloadThreads = []             # a list of all the Thread objects\n",
    "# for i in range(0, 1400, 100):    # loops 14 times, creates 14 threads\n",
    "#     downloadThread = threading.Thread(target=reader2)\n",
    "#     downloadThreads.append(downloadThread)\n",
    "#     downloadThread.start()\n",
    "# for downloadThread in downloadThreads:\n",
    "#     downloadThread.join()\n",
    "# print('Done.')"
   ]
  },
  {
   "cell_type": "code",
   "execution_count": 18,
   "metadata": {
    "scrolled": true
   },
   "outputs": [],
   "source": [
    "# reader2()"
   ]
  },
  {
   "cell_type": "code",
   "execution_count": null,
   "metadata": {},
   "outputs": [],
   "source": [
    "# allwalksheds.to_file(r\"/Users/brianparker/Work/Walksheds/allqtr.shp\")"
   ]
  },
  {
   "cell_type": "code",
   "execution_count": null,
   "metadata": {},
   "outputs": [
    {
     "name": "stderr",
     "output_type": "stream",
     "text": [
      "/anaconda2/envs/py3mapping/lib/python3.7/site-packages/ipykernel_launcher.py:9: DeprecationWarning: \n",
      ".ix is deprecated. Please use\n",
      ".loc for label based indexing or\n",
      ".iloc for positional indexing\n",
      "\n",
      "See the documentation here:\n",
      "http://pandas.pydata.org/pandas-docs/stable/indexing.html#ix-indexer-is-deprecated\n",
      "  if __name__ == '__main__':\n"
     ]
    }
   ],
   "source": [
    "# create as many processes as there are CPUs on your machine\n",
    "num_processes = multiprocessing.cpu_count()\n",
    "\n",
    "# calculate the chunk size as an integer\n",
    "chunk_size = int(df.shape[0]/num_processes)\n",
    "\n",
    "# this solution was reworked from the above link.\n",
    "# will work even if the length of the dataframe is not evenly divisible by num_processes\n",
    "chunks = [df.ix[df.index[i:i + chunk_size]] for i in range(0, df.shape[0], chunk_size)]"
   ]
  },
  {
   "cell_type": "code",
   "execution_count": null,
   "metadata": {
    "scrolled": false
   },
   "outputs": [
    {
     "name": "stdout",
     "output_type": "stream",
     "text": [
      "reading  Broadway & Park (687 of 98)\n",
      "reading  Collins @ V.A. Medical Center (197 of 98)\n",
      "reading  12th & Sheridan (688 of 98)\n",
      "reading  Five Mile & Irving (589 of 98)\n",
      "reading  12th & Valley (689 of 98)\n",
      "reading  Five Mile & Fairview (590 of 98)\n",
      "reading  Holly & Florida (690 of 98)\n",
      "reading  Elder @ Wells Fargo (491 of 98)\n",
      "reading  Orchard & Bethel (99 of 98)\n",
      "reading  Bird & Fern (691 of 98)\n",
      "reading  Five Mile & Cory (591 of 98)\n",
      "reading  Owyhee & Lemhi (492 of 98)\n",
      "reading  12th & 4th (692 of 98)\n",
      "reading  Apple & Lexington (393 of 98)\n",
      "reading  Fort & 4th (198 of 98)\n",
      "reading  Chrisway & Boise (394 of 98)\n",
      "reading  2nd & 10th (693 of 98)\n",
      "reading  Nez Perce & Owyhee (493 of 98)\n",
      "reading  Fort & Washington (199 of 98)\n",
      "reading  Apple & Old Saybrook (395 of 98)\n",
      "reading  2nd & 3rd (694 of 98)\n",
      "reading  Orchard & Emerald (100 of 98)\n",
      "reading  University & Chrisway (1 of 98)\n",
      "reading  50th & Sawyer (592 of 98)\n",
      "reading  Apple & Ridgefield (396 of 98)\n",
      "reading  Jefferson & Ave C (200 of 98)\n",
      "reading  Nez Perce & Latah (494 of 98)\n",
      "reading  Five Mile & Lancelot (593 of 98)\n",
      "reading  Maple Grove & Ustick (295 of 98)\n",
      "reading  Lincoln & University (2 of 98)\n",
      "reading  Caldwell & Canyon (695 of 98)\n",
      "reading  Fairview & 23rd (101 of 98)\n",
      "reading  McKinley & Bruce (201 of 98)\n",
      "reading  Roosevelt & Overland (495 of 98)\n",
      "reading  Five Mile & Country Squire (594 of 98)\n",
      "reading  Beacon & Lincoln (3 of 98)\n",
      "reading  Main & 13th (102 of 98)\n",
      "reading  Roosevelt & Kootenai (496 of 98)\n",
      "reading  Chinden & 47th (595 of 98)\n",
      "reading  Cole & Weseley (103 of 98)\n",
      "reading  Beacon & Manitou (4 of 98)\n",
      "reading  Chinden & 45th (596 of 98)\n",
      "reading  Cole & Westwood (104 of 98)\n",
      "reading  Roosevelt & Cassia (497 of 98)\n",
      "reading  Chinden & 41st (597 of 98)\n",
      "reading  Maple Grove & Lancelot (296 of 98)\n",
      "reading  Caldwell & Horton (696 of 98)\n",
      "reading  Fairview & Allumbaugh (105 of 98)\n",
      "reading  Boise & Protest (397 of 98)\n",
      "reading  Fairview & Hartman (106 of 98)\n",
      "reading  Maple Grove & Holbrook (297 of 98)\n",
      "reading  Caldwell & Parkcentre (697 of 98)\n",
      "reading  Five Mile & Edna (598 of 98)\n",
      "reading  Maple Grove & Fairview (298 of 98)\n",
      "reading  Milwaukee & Marcum (107 of 98)\n",
      "reading  Caldwell @ Shopko (698 of 98)\n",
      "reading  Five Mile & Goldenrod (599 of 98)\n",
      "reading  Milwaukee & Goddard (108 of 98)\n",
      "reading  Apple & Bergeson (398 of 98)\n",
      "reading  Maple Grove & Irving (299 of 98)\n",
      "reading  Beacon & Grant (5 of 98)\n",
      "reading  Caldwell & Middleton (699 of 98)\n",
      "reading  Roosevelt & Albion (498 of 98)\n",
      "reading  Beacon & Broadway (6 of 98)\n",
      "reading  Washington & Elm (202 of 98)\n",
      "reading  McMillian & Five Mile (600 of 98)\n",
      "reading  Cole & Mountainview (109 of 98)\n",
      "reading  Federal Way & Findley (399 of 98)\n",
      "reading  Beacon & Colorado (7 of 98)\n",
      "reading  Federal Way & Protest (400 of 98)\n",
      "reading  Emerald & Maple Grove (300 of 98)\n",
      "reading  Beacon & Parkcenter (8 of 98)\n",
      "reading  McMillian & Farrow (601 of 98)\n",
      "reading  Broadway & Linden (401 of 98)\n",
      "reading  Emerald & Benjamin (301 of 98)\n",
      "reading  Parkcenter & Mallard (9 of 98)\n",
      "reading  McMillian & Lena (602 of 98)\n",
      "reading  Broadway & Targee (402 of 98)\n",
      "reading  Caldwell & Homedale (700 of 98)\n",
      "reading  Parkcenter & River Run (10 of 98)\n",
      "reading  Washington & Walnut (203 of 98)\n",
      "reading  Emerald & Milwaukee (302 of 98)\n",
      "reading  Cleveland @ WalMart (701 of 98)\n",
      "reading  Cleveland & 38th (702 of 98)\n",
      "reading  Cole & Settlers (110 of 98)\n",
      "reading  Emerald & Rifleman (303 of 98)\n",
      "reading  McMillian & Cloverdale (603 of 98)\n",
      "reading  Five Mile & Charitan (111 of 98)\n",
      "reading  Cleveland & Linden (703 of 98)\n",
      "reading  Parkcenter & Apple (11 of 98)\n",
      "reading  Washington & Pierce (204 of 98)\n",
      "reading  Cloverdale & Hickory (604 of 98)\n",
      "reading  Broadway & Gallaher (403 of 98)\n",
      "reading  State & Horseshoe Bend (704 of 98)\n",
      "reading  Emerald & Mitchell (112 of 98)\n",
      "reading  State & 9th (304 of 98)\n",
      "reading  Coston & Jefferson (205 of 98)\n",
      "reading  Broadway & Boise (404 of 98)\n",
      "reading  Middleton Fine Arts Center P&R (705 of 98)\n",
      "reading  Carlton Bay & Horseshoe Bend (499 of 98)\n",
      "reading  State & 11th (305 of 98)\n",
      "reading  Cloverdale & DeMeyer (605 of 98)\n",
      "reading  Five Mile & Lupine (113 of 98)\n",
      "reading  Progress & Central (706 of 98)\n",
      "reading  Latah & Kipling (500 of 98)\n",
      "reading  State & 13th (306 of 98)\n",
      "reading  Discovery Way & Chinden Blvd. SEC (606 of 98)\n",
      "reading  Coston & Warm Springs (206 of 98)\n",
      "reading  Chinden @ Hewlett Packard (607 of 98)\n",
      "reading  Overland & Annett (405 of 98)\n",
      "reading  Central @ ISU (707 of 98)\n",
      "reading  State & 15th (307 of 98)\n",
      "reading  Franklin & Eagle (708 of 98)\n",
      "reading  McMillan & Shamrock (114 of 98)\n",
      "reading  Warm Springs & Pierce (207 of 98)\n",
      "reading  State & 17th (308 of 98)\n",
      "reading  Bergeson & Federal Way (12 of 98)\n",
      "reading  Fairview & Larch (608 of 98)\n",
      "reading  Broadway & Highlands (406 of 98)\n",
      "reading  Warm Springs & Walnut (208 of 98)\n",
      "reading  Chinden & 39th (115 of 98)\n",
      "reading  State & 21st (309 of 98)\n",
      "reading  Latah & Meadow (501 of 98)\n",
      "reading  8th & Franklin (407 of 98)\n",
      "reading  Chinden & 45th (116 of 98)\n",
      "reading  Park & Broadway (209 of 98)\n",
      "reading  Overland & Silverstone (709 of 98)\n",
      "reading  Americana @ Ann Morrison Park (502 of 98)\n",
      "reading  Fairview & Curtis (609 of 98)\n",
      "reading  Federal Way @ Fred Meyer (13 of 98)\n",
      "reading  Overland & Orchard (408 of 98)\n",
      "reading  State & 23rd (310 of 98)\n",
      "reading  Walnut & Park (210 of 98)\n",
      "reading  13th & Grand (503 of 98)\n",
      "reading  Five Mile & Hickory (610 of 98)\n",
      "reading  Bergeson & Mount Vernon (14 of 98)\n",
      "reading  McMillan & Tattenham (117 of 98)\n",
      "reading  Overland & Cloverdale (710 of 98)\n",
      "reading  Fort & 9th (409 of 98)\n",
      "reading  State & 26th (311 of 98)\n",
      "reading  Walnut & Strawberry (211 of 98)\n",
      "reading  Fairview & Allumbaugh (611 of 98)\n",
      "reading  Overland & Clear Creek (711 of 98)\n",
      "reading  13th & River (504 of 98)\n",
      "reading  Walnut & Lewis (212 of 98)\n",
      "reading  13th @ Post Office (505 of 98)\n",
      "reading  Overland & Cloverdale (712 of 98)\n",
      "reading  Bergeson & Minuteman (15 of 98)\n",
      "reading  28th & Lemp (312 of 98)\n",
      "reading  Warm Springs & Coston (213 of 98)\n",
      "reading  McMillan & Wisteria (118 of 98)\n",
      "reading  Overland & Randolph (410 of 98)\n",
      "reading  Overland & Silverstone (713 of 98)\n",
      "reading  13th & Brumback (411 of 98)\n",
      "reading  28th & Good (313 of 98)\n",
      "reading  Chinden & Garrett (119 of 98)\n",
      "reading  28th & Sunset (314 of 98)\n",
      "reading  Appple & Lexington (16 of 98)\n",
      "reading  Old Penitentary & Warm Springs (214 of 98)\n",
      "reading  Overland & Curtis (412 of 98)\n",
      "reading  28th & Smith (315 of 98)\n",
      "reading  Harrison & Irene (413 of 98)\n",
      "reading  Warm Springs & Hot Springs (215 of 98)\n",
      "reading  Five Mile & McMillian (612 of 98)\n",
      "reading  Franklin & Eagle (714 of 98)\n",
      "reading  Taft & 28th (316 of 98)\n",
      "reading  Five Mile & Goldenrod (613 of 98)\n",
      "reading  Chinden & 39th (120 of 98)\n",
      "reading  Locust Grove & Franklin (715 of 98)\n",
      "reading  Cole & Althea (216 of 98)\n",
      "reading  State & Pierce Park (121 of 98)\n",
      "reading  Bogus Basin & Hill (414 of 98)\n",
      "reading  Parkcenter & River Run (17 of 98)\n",
      "reading  Shoreline & 14th (506 of 98)\n",
      "reading  Beacon & Colorado (18 of 98)\n",
      "reading  Beacon & Manitou (19 of 98)\n",
      "reading  Central @ ISU (716 of 98)\n",
      "reading  State & Plantation River (122 of 98)\n",
      "reading  Taft & 36th (317 of 98)\n",
      "reading  Beacon & Lincoln (20 of 98)\n",
      "reading  Five Mile & Edna (614 of 98)\n",
      "reading  36th & Magnolia (318 of 98)\n",
      "reading  Capitol & Cesar Chavez (21 of 98)\n",
      "reading  Overland & Sage (415 of 98)\n",
      "reading  State & 21st (123 of 98)\n",
      "reading  Fairview & Cole (615 of 98)\n",
      "reading  Catalpa & Tamarack (319 of 98)\n"
     ]
    }
   ],
   "source": [
    "pool=multiprocessing.Pool(processes=num_processes)"
   ]
  },
  {
   "cell_type": "code",
   "execution_count": null,
   "metadata": {},
   "outputs": [],
   "source": [
    "result=pool.map(reader2,chunks)"
   ]
  },
  {
   "cell_type": "code",
   "execution_count": null,
   "metadata": {},
   "outputs": [],
   "source": [
    "for key,value in d.items():\n",
    "    clear_output(wait=True)\n",
    "    allwalksheds=allwalksheds.append(value[:])\n",
    "    print(key)\n",
    "    allwalksheds.plot()"
   ]
  },
  {
   "cell_type": "code",
   "execution_count": null,
   "metadata": {},
   "outputs": [],
   "source": []
  }
 ],
 "metadata": {
  "kernelspec": {
   "display_name": "Python 3",
   "language": "python",
   "name": "python3"
  },
  "language_info": {
   "codemirror_mode": {
    "name": "ipython",
    "version": 3
   },
   "file_extension": ".py",
   "mimetype": "text/x-python",
   "name": "python",
   "nbconvert_exporter": "python",
   "pygments_lexer": "ipython3",
   "version": "3.7.0"
  }
 },
 "nbformat": 4,
 "nbformat_minor": 2
}
